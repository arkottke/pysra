{
 "cells": [
  {
   "cell_type": "markdown",
   "metadata": {},
   "source": [
    "# Example 7: RVT SRA with simulated profiles\n",
    "\n",
    "Use RVT with simulated profiles to compute the surface response spectrum and surface spectral ratio."
   ]
  },
  {
   "cell_type": "code",
   "execution_count": 1,
   "metadata": {},
   "outputs": [],
   "source": [
    "import matplotlib as mpl\n",
    "import matplotlib.pyplot as plt\n",
    "import numpy as np\n",
    "\n",
    "import pysra\n",
    "\n",
    "%matplotlib inline\n",
    "# Larger figures\n",
    "mpl.rcParams['figure.dpi'] = 150"
   ]
  },
  {
   "cell_type": "markdown",
   "metadata": {},
   "source": [
    "## Create a point source theory RVT motion"
   ]
  },
  {
   "cell_type": "code",
   "execution_count": 2,
   "metadata": {},
   "outputs": [],
   "source": [
    "m = pysra.motion.SourceTheoryRvtMotion(6.0, 30, 'wna')\n",
    "m.calc_fourier_amps()"
   ]
  },
  {
   "cell_type": "markdown",
   "metadata": {},
   "source": [
    "## Create site profile\n",
    "\n",
    "This is about the simplest profile that we can create. Linear-elastic soil and rock."
   ]
  },
  {
   "cell_type": "code",
   "execution_count": 3,
   "metadata": {},
   "outputs": [],
   "source": [
    "profile = pysra.site.Profile([\n",
    "    pysra.site.Layer(\n",
    "        pysra.site.DarendeliSoilType(\n",
    "            18., plas_index=0, ocr=1, stress_mean=200), 10, 400),\n",
    "    pysra.site.Layer(\n",
    "        pysra.site.DarendeliSoilType(\n",
    "            18., plas_index=0, ocr=1, stress_mean=200), 20, 600),\n",
    "    pysra.site.Layer(\n",
    "        pysra.site.SoilType('Rock', 24., None, 0.01), 0, 1200),\n",
    "])"
   ]
  },
  {
   "cell_type": "markdown",
   "metadata": {},
   "source": [
    "## Create the site response calculator"
   ]
  },
  {
   "cell_type": "code",
   "execution_count": 4,
   "metadata": {},
   "outputs": [],
   "source": [
    "calc = pysra.propagation.EquivalentLinearCalculator()"
   ]
  },
  {
   "cell_type": "markdown",
   "metadata": {},
   "source": [
    "## Initialize the variations"
   ]
  },
  {
   "cell_type": "code",
   "execution_count": 5,
   "metadata": {},
   "outputs": [],
   "source": [
    "var_thickness = pysra.variation.ToroThicknessVariation()\n",
    "var_velocity = pysra.variation.ToroVelocityVariation.generic_model(\n",
    "    'USGS C')\n",
    "var_soiltypes = pysra.variation.SpidVariation(\n",
    "    -0.5, std_mod_reduc=0.15, std_damping=0.30)"
   ]
  },
  {
   "cell_type": "markdown",
   "metadata": {},
   "source": [
    "## Specify the output"
   ]
  },
  {
   "cell_type": "code",
   "execution_count": 6,
   "metadata": {},
   "outputs": [],
   "source": [
    "freqs = np.logspace(-1, 2, num=500)\n",
    "\n",
    "outputs = pysra.output.OutputCollection(\n",
    "    pysra.output.ResponseSpectrumOutput(\n",
    "        # Frequency\n",
    "        freqs, \n",
    "        # Location of the output\n",
    "        pysra.output.OutputLocation('outcrop', index=0), \n",
    "        # Damping\n",
    "        0.05\n",
    "    ),\n",
    "    pysra.output.ResponseSpectrumRatioOutput(\n",
    "        # Frequency\n",
    "        freqs, \n",
    "        # Location in (denominator),\n",
    "        pysra.output.OutputLocation('outcrop', index=-1), \n",
    "        # Location out (numerator)\n",
    "        pysra.output.OutputLocation('outcrop', index=0), \n",
    "        # Damping\n",
    "        0.05\n",
    "    ),\n",
    "    \n",
    ")"
   ]
  },
  {
   "cell_type": "markdown",
   "metadata": {},
   "source": [
    "## Perform the calculation"
   ]
  },
  {
   "cell_type": "code",
   "execution_count": 7,
   "metadata": {},
   "outputs": [
    {
     "name": "stdout",
     "output_type": "stream",
     "text": [
      "<pysra.site.NonlinearProperty object at 0x7efd23f1d390> <pysra.site.NonlinearProperty object at 0x7efd1c546908>\n"
     ]
    },
    {
     "ename": "TypeError",
     "evalue": "'NonlinearProperty' object does not support item assignment",
     "output_type": "error",
     "traceback": [
      "\u001b[0;31m---------------------------------------------------------------------------\u001b[0m",
      "\u001b[0;31mTypeError\u001b[0m                                 Traceback (most recent call last)",
      "\u001b[0;32m<ipython-input-7-7840bcb5aa3f>\u001b[0m in \u001b[0;36m<module>\u001b[0;34m()\u001b[0m\n\u001b[1;32m      4\u001b[0m         \u001b[0mvar_thickness\u001b[0m\u001b[0;34m=\u001b[0m\u001b[0mvar_thickness\u001b[0m\u001b[0;34m,\u001b[0m\u001b[0;34m\u001b[0m\u001b[0m\n\u001b[1;32m      5\u001b[0m         \u001b[0mvar_velocity\u001b[0m\u001b[0;34m=\u001b[0m\u001b[0mvar_velocity\u001b[0m\u001b[0;34m,\u001b[0m\u001b[0;34m\u001b[0m\u001b[0m\n\u001b[0;32m----> 6\u001b[0;31m         \u001b[0mvar_soiltypes\u001b[0m\u001b[0;34m=\u001b[0m\u001b[0mvar_soiltypes\u001b[0m\u001b[0;34m\u001b[0m\u001b[0m\n\u001b[0m\u001b[1;32m      7\u001b[0m ):\n\u001b[1;32m      8\u001b[0m     \u001b[0mcalc\u001b[0m\u001b[0;34m(\u001b[0m\u001b[0mm\u001b[0m\u001b[0;34m,\u001b[0m \u001b[0mprofile\u001b[0m\u001b[0;34m,\u001b[0m \u001b[0mprofile\u001b[0m\u001b[0;34m.\u001b[0m\u001b[0mlocation\u001b[0m\u001b[0;34m(\u001b[0m\u001b[0;34m'outcrop'\u001b[0m\u001b[0;34m,\u001b[0m \u001b[0mindex\u001b[0m\u001b[0;34m=\u001b[0m\u001b[0;34m-\u001b[0m\u001b[0;36m1\u001b[0m\u001b[0;34m)\u001b[0m\u001b[0;34m)\u001b[0m\u001b[0;34m\u001b[0m\u001b[0m\n",
      "\u001b[0;32m~/Documents/programs/pysra/pysra/variation.py\u001b[0m in \u001b[0;36miter_varied_profiles\u001b[0;34m(profile, count, var_thickness, var_velocity, var_soiltypes)\u001b[0m\n\u001b[1;32m    610\u001b[0m                     \u001b[0;32mif\u001b[0m \u001b[0mgetattr\u001b[0m\u001b[0;34m(\u001b[0m\u001b[0mst\u001b[0m\u001b[0;34m,\u001b[0m \u001b[0mattr\u001b[0m\u001b[0;34m)\u001b[0m \u001b[0;32mis\u001b[0m \u001b[0;32mnot\u001b[0m \u001b[0;32mNone\u001b[0m\u001b[0;34m:\u001b[0m\u001b[0;34m\u001b[0m\u001b[0m\n\u001b[1;32m    611\u001b[0m                         \u001b[0mprint\u001b[0m\u001b[0;34m(\u001b[0m\u001b[0mgetattr\u001b[0m\u001b[0;34m(\u001b[0m\u001b[0mst\u001b[0m\u001b[0;34m,\u001b[0m \u001b[0mattr\u001b[0m\u001b[0;34m)\u001b[0m\u001b[0;34m,\u001b[0m \u001b[0mgetattr\u001b[0m\u001b[0;34m(\u001b[0m\u001b[0mst_varied\u001b[0m\u001b[0;34m,\u001b[0m \u001b[0mattr\u001b[0m\u001b[0;34m)\u001b[0m\u001b[0;34m)\u001b[0m\u001b[0;34m\u001b[0m\u001b[0m\n\u001b[0;32m--> 612\u001b[0;31m                         \u001b[0mgetattr\u001b[0m\u001b[0;34m(\u001b[0m\u001b[0mst\u001b[0m\u001b[0;34m,\u001b[0m \u001b[0mattr\u001b[0m\u001b[0;34m)\u001b[0m\u001b[0;34m[\u001b[0m\u001b[0;34m:\u001b[0m\u001b[0;34m]\u001b[0m \u001b[0;34m=\u001b[0m \u001b[0mgetattr\u001b[0m\u001b[0;34m(\u001b[0m\u001b[0mst_varied\u001b[0m\u001b[0;34m,\u001b[0m \u001b[0mattr\u001b[0m\u001b[0;34m)\u001b[0m\u001b[0;34m\u001b[0m\u001b[0m\n\u001b[0m",
      "\u001b[0;31mTypeError\u001b[0m: 'NonlinearProperty' object does not support item assignment"
     ]
    }
   ],
   "source": [
    "for profile in pysra.variation.iter_varied_profiles(\n",
    "        profile,\n",
    "        30,\n",
    "        var_thickness=var_thickness,\n",
    "        var_velocity=var_velocity,\n",
    "        var_soiltypes=var_soiltypes\n",
    "):\n",
    "    calc(m, profile, profile.location('outcrop', index=-1))\n",
    "    outputs(calc)"
   ]
  },
  {
   "cell_type": "markdown",
   "metadata": {},
   "source": [
    "## Plot the outputs\n",
    "\n",
    "Create a few plots of the output."
   ]
  },
  {
   "cell_type": "code",
   "execution_count": null,
   "metadata": {},
   "outputs": [],
   "source": [
    "for o in outputs:\n",
    "    fig, ax = plt.subplots()\n",
    "    ax.plot(o.refs, o.values)\n",
    "    ax.set(xlabel=o.xlabel, xscale='log', ylabel=o.ylabel)\n",
    "    fig.tight_layout();"
   ]
  },
  {
   "cell_type": "code",
   "execution_count": null,
   "metadata": {},
   "outputs": [],
   "source": []
  }
 ],
 "metadata": {
  "kernelspec": {
   "display_name": "Python 3",
   "language": "python",
   "name": "python3"
  },
  "language_info": {
   "codemirror_mode": {
    "name": "ipython",
    "version": 3
   },
   "file_extension": ".py",
   "mimetype": "text/x-python",
   "name": "python",
   "nbconvert_exporter": "python",
   "pygments_lexer": "ipython3",
   "version": "3.6.3"
  }
 },
 "nbformat": 4,
 "nbformat_minor": 1
}
