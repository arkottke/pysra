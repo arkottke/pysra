{
 "cells": [
  {
   "cell_type": "markdown",
   "metadata": {},
   "source": [
    "# Example 1\n",
    "\n",
    "Compute $RSR_{NL-L}$ which is defined by the ratio of nonlinear and linear transfer functions for within and outcrop motions. This example is not the best illustration of the capabilities, but was the first that was created while I was reviewing a paper.\n",
    "\n",
    "Load required modules including `pysra`."
   ]
  },
  {
   "cell_type": "code",
   "execution_count": 1,
   "metadata": {
    "collapsed": true
   },
   "outputs": [],
   "source": [
    "import collections\n",
    "import sys\n",
    "\n",
    "import matplotlib as mpl\n",
    "import matplotlib.pyplot as plt\n",
    "import numpy as np\n",
    "\n",
    "import pysra\n",
    "\n",
    "%matplotlib inline"
   ]
  },
  {
   "cell_type": "markdown",
   "metadata": {},
   "source": [
    "Initialize a motion. In this example, we are using an empty motion for calculation of the transfer function only."
   ]
  },
  {
   "cell_type": "code",
   "execution_count": 2,
   "metadata": {
    "collapsed": true
   },
   "outputs": [],
   "source": [
    "motion = pysra.motion.Motion(np.logspace(-1, 2, 301))"
   ]
  },
  {
   "cell_type": "markdown",
   "metadata": {},
   "source": [
    "Initialize two profiles consisting as two layers (Soil and Rock). The two profiles are representative of small-strain and strain-compatible profiles."
   ]
  },
  {
   "cell_type": "code",
   "execution_count": 3,
   "metadata": {
    "collapsed": true
   },
   "outputs": [],
   "source": [
    "profiles = [\n",
    "    # Initial\n",
    "    pysra.site.Profile([\n",
    "        pysra.site.Layer(\n",
    "            pysra.site.SoilType(\n",
    "                'Soil', 18., None, 0.05\n",
    "            ),\n",
    "            30, 400\n",
    "        ),\n",
    "        pysra.site.Layer(\n",
    "            pysra.site.SoilType(\n",
    "                'Rock', 24., None, 0.01\n",
    "            ),\n",
    "            0, 1200\n",
    "        ),\n",
    "    ]),\n",
    "    # Reduced properties\n",
    "    pysra.site.Profile([\n",
    "        pysra.site.Layer(\n",
    "            pysra.site.SoilType(\n",
    "                'Soil', 18., None, 0.08\n",
    "            ),\n",
    "            30, 300\n",
    "        ),\n",
    "        pysra.site.Layer(\n",
    "            pysra.site.SoilType(\n",
    "                'Rock', 24., None, 0.01\n",
    "            ),\n",
    "            0, 1200\n",
    "        ),\n",
    "    ])\n",
    "]"
   ]
  },
  {
   "cell_type": "markdown",
   "metadata": {},
   "source": [
    "Initialize the linear elastic calculator."
   ]
  },
  {
   "cell_type": "code",
   "execution_count": 4,
   "metadata": {
    "collapsed": true
   },
   "outputs": [],
   "source": [
    "calc = pysra.propagation.LinearElasticCalculator()"
   ]
  },
  {
   "cell_type": "markdown",
   "metadata": {},
   "source": [
    "Compute the $RSR_{NL-L}$ for the two wave field assumptions."
   ]
  },
  {
   "cell_type": "code",
   "execution_count": 5,
   "metadata": {
    "collapsed": true
   },
   "outputs": [],
   "source": [
    "wave_fields = [\n",
    "    pysra.motion.WaveField.outcrop,\n",
    "    pysra.motion.WaveField.within,\n",
    "]\n",
    "rsrs = collections.OrderedDict()\n",
    "for wave_field in wave_fields:\n",
    "    trans_funcs = []\n",
    "    for p in profiles:\n",
    "        surface = p.location('outcrop', index=0)\n",
    "        bedrock = p.location(wave_field, index=-1)\n",
    "\n",
    "        calc(motion, p.data, bedrock)\n",
    "        trans_funcs.append(calc.calc_accel_tf(bedrock, surface))\n",
    "\n",
    "    rsrs[wave_field] = np.abs(trans_funcs[1]) / np.abs(trans_funcs[0])"
   ]
  },
  {
   "cell_type": "code",
   "execution_count": 6,
   "metadata": {},
   "outputs": [
    {
     "data": {
      "image/png": "[encoded data removed]",
      "text/plain": [
       "<matplotlib.figure.Figure at 0x7f20301e3a20>"
      ]
     },
     "metadata": {},
     "output_type": "display_data"
    }
   ],
   "source": [
    "fig, ax = plt.subplots()\n",
    "\n",
    "for (label, rsr), color in zip(rsrs.items(), ['red', 'blue']):\n",
    "    ax.plot(motion.freqs, rsr, '-', color=color, label=label)\n",
    "\n",
    "ax.set_xlabel('Frequency (Hz)')\n",
    "ax.set_xscale('log')\n",
    "ax.set_xlim(0.1, 30)\n",
    "\n",
    "ax.set_ylabel('$RSR_{NL-L}$')\n",
    "ax.set_yscale('log')\n",
    "\n",
    "ax.grid()\n",
    "\n",
    "ax.legend(loc='lower left', title='Bedrock Wave Field')\n",
    "\n",
    "fig.tight_layout()\n"
   ]
  }
 ],
 "metadata": {
  "anaconda-cloud": {},
  "kernelspec": {
   "display_name": "Python 3",
   "language": "python",
   "name": "python3"
  },
  "language_info": {
   "codemirror_mode": {
    "name": "ipython",
    "version": 3
   },
   "file_extension": ".py",
   "mimetype": "text/x-python",
   "name": "python",
   "nbconvert_exporter": "python",
   "pygments_lexer": "ipython3",
   "version": "3.6.3"
  }
 },
 "nbformat": 4,
 "nbformat_minor": 1
}
