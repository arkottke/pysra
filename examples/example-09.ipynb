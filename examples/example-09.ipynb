{
 "cells": [
  {
   "cell_type": "markdown",
   "metadata": {},
   "source": [
    "# Example 9: Quarter wavelength site amplification\n",
    "\n",
    "Example of quarter-wavelength site amplification and fitting a profile to a target crustal amplification."
   ]
  },
  {
   "cell_type": "code",
   "execution_count": 1,
   "metadata": {},
   "outputs": [],
   "source": [
    "import json\n",
    "\n",
    "import matplotlib.pyplot as plt\n",
    "import numpy as np\n",
    "\n",
    "import pysra\n",
    "\n",
    "%matplotlib inline"
   ]
  },
  {
   "cell_type": "code",
   "execution_count": 2,
   "metadata": {},
   "outputs": [],
   "source": [
    "# Increased figure sizes\n",
    "plt.rcParams['figure.dpi'] = 120"
   ]
  },
  {
   "cell_type": "markdown",
   "metadata": {},
   "source": [
    "Load the WNA profile from Campbell (2003)."
   ]
  },
  {
   "cell_type": "code",
   "execution_count": 3,
   "metadata": {},
   "outputs": [
    {
     "ename": "FileNotFoundError",
     "evalue": "[Errno 2] No such file or directory: '../tests/data/campbell_03.json'",
     "output_type": "error",
     "traceback": [
      "\u001b[0;31m---------------------------------------------------------------------------\u001b[0m",
      "\u001b[0;31mFileNotFoundError\u001b[0m                         Traceback (most recent call last)",
      "\u001b[0;32m<ipython-input-3-4737c663f7c3>\u001b[0m in \u001b[0;36m<module>\u001b[0;34m\u001b[0m\n\u001b[0;32m----> 1\u001b[0;31m \u001b[0;32mwith\u001b[0m \u001b[0mopen\u001b[0m\u001b[0;34m(\u001b[0m\u001b[0;34m'../tests/data/campbell_03.json'\u001b[0m\u001b[0;34m)\u001b[0m \u001b[0;32mas\u001b[0m \u001b[0mfp\u001b[0m\u001b[0;34m:\u001b[0m\u001b[0;34m\u001b[0m\u001b[0;34m\u001b[0m\u001b[0m\n\u001b[0m\u001b[1;32m      2\u001b[0m     \u001b[0mdata\u001b[0m \u001b[0;34m=\u001b[0m \u001b[0mjson\u001b[0m\u001b[0;34m.\u001b[0m\u001b[0mload\u001b[0m\u001b[0;34m(\u001b[0m\u001b[0mfp\u001b[0m\u001b[0;34m)\u001b[0m\u001b[0;34m[\u001b[0m\u001b[0;34m'wna'\u001b[0m\u001b[0;34m]\u001b[0m\u001b[0;34m\u001b[0m\u001b[0;34m\u001b[0m\u001b[0m\n\u001b[1;32m      3\u001b[0m \u001b[0;34m\u001b[0m\u001b[0m\n\u001b[1;32m      4\u001b[0m \u001b[0mthickness\u001b[0m \u001b[0;34m=\u001b[0m \u001b[0mnp\u001b[0m\u001b[0;34m.\u001b[0m\u001b[0mdiff\u001b[0m\u001b[0;34m(\u001b[0m\u001b[0mdata\u001b[0m\u001b[0;34m[\u001b[0m\u001b[0;34m'site'\u001b[0m\u001b[0;34m]\u001b[0m\u001b[0;34m[\u001b[0m\u001b[0;34m'depth'\u001b[0m\u001b[0;34m]\u001b[0m\u001b[0;34m)\u001b[0m\u001b[0;34m\u001b[0m\u001b[0;34m\u001b[0m\u001b[0m\n\u001b[1;32m      5\u001b[0m \u001b[0;34m\u001b[0m\u001b[0m\n",
      "\u001b[0;31mFileNotFoundError\u001b[0m: [Errno 2] No such file or directory: '../tests/data/campbell_03.json'"
     ]
    }
   ],
   "source": [
    "with open('../tests/data/campbell_03.json') as fp:\n",
    "    data = json.load(fp)['wna']\n",
    "    \n",
    "thickness = np.diff(data['site']['depth'])\n",
    "\n",
    "profile = pysra.site.Profile()\n",
    "for i, (thick, vel_shear, density) in enumerate(zip(\n",
    "    thickness, data['site']['vel_shear'], data['site']['density']\n",
    ")):\n",
    "    profile.append(\n",
    "        pysra.site.Layer(\n",
    "            pysra.site.SoilType(f'{i}', density * pysra.motion.GRAVITY),\n",
    "            thick * 1000, vel_shear * 1000,\n",
    "        )\n",
    "    )\n",
    "\n",
    "profile.update_layers()"
   ]
  },
  {
   "cell_type": "markdown",
   "metadata": {},
   "source": [
    "Create simple point source motion"
   ]
  },
  {
   "cell_type": "code",
   "execution_count": null,
   "metadata": {},
   "outputs": [],
   "source": [
    "motion = pysra.motion.SourceTheoryRvtMotion(\n",
    "    magnitude=6.5, distance=20, region='cena'\n",
    ")\n",
    "motion.calc_fourier_amps(data['ampl']['freq'])"
   ]
  },
  {
   "cell_type": "code",
   "execution_count": null,
   "metadata": {},
   "outputs": [],
   "source": [
    "calc = pysra.propagation.QuarterWaveLenCalculator(site_atten=0.04)\n",
    "input_loc = profile.location('outcrop', index=-1)"
   ]
  },
  {
   "cell_type": "code",
   "execution_count": null,
   "metadata": {},
   "outputs": [],
   "source": [
    "calc(motion, profile, input_loc)"
   ]
  },
  {
   "cell_type": "code",
   "execution_count": null,
   "metadata": {},
   "outputs": [],
   "source": [
    "fig, ax = plt.subplots()\n",
    "ax.plot(motion.freqs, calc.crustal_amp, label='Crustal Amp.')\n",
    "ax.plot(motion.freqs, calc.site_term, label='Site Term')\n",
    "ax.set(\n",
    "    xlabel='Frequency (Hz)', xscale='log',\n",
    "    ylabel='Amplitude', yscale='linear',\n",
    ")\n",
    "ax.legend()\n",
    "fig.tight_layout();"
   ]
  },
  {
   "cell_type": "markdown",
   "metadata": {},
   "source": [
    "The quarter-wavelength calculation is tested against the WNA and CENA crustal amplification models provided by Campbell (2003). The test of the CENA model passes, but the WNA model fails. Below is a comparison of the two crustal amplifications."
   ]
  },
  {
   "cell_type": "code",
   "execution_count": null,
   "metadata": {},
   "outputs": [],
   "source": [
    "fig, ax = plt.subplots()\n",
    "ax.plot(motion.freqs, calc.crustal_amp, label='Calculated')\n",
    "ax.plot(data['ampl']['freq'], data['ampl']['crustal_amp'], label='Campbell (03)')\n",
    "ax.set(\n",
    "    xlabel='Frequency (Hz)', xscale='log',\n",
    "    ylabel='Amplitude', yscale='linear',\n",
    ")\n",
    "ax.legend()\n",
    "fig.tight_layout();"
   ]
  },
  {
   "cell_type": "markdown",
   "metadata": {},
   "source": [
    "Adjust the profile to match the target crustal amplification -- no consideration of the site attenuation paramater although this can also be done. First, the adjustment is only performed on the velocity. Second set of plots adjusts velocity and thickness."
   ]
  },
  {
   "cell_type": "code",
   "execution_count": null,
   "metadata": {
    "scrolled": false
   },
   "outputs": [],
   "source": [
    "for adjust_thickness in [False, True]:\n",
    "    calc.fit(target_type='crustal_amp', target=data['ampl']['crustal_amp'], \n",
    "             adjust_thickness=adjust_thickness)\n",
    "    \n",
    "    fig, ax = plt.subplots()\n",
    "    ax.plot(motion.freqs, calc.crustal_amp, label='Calculated')\n",
    "    ax.plot(data['ampl']['freq'], data['ampl']['crustal_amp'], label='Campbell (03)')\n",
    "    ax.set(\n",
    "        xlabel='Frequency (Hz)', xscale='log',\n",
    "        ylabel='Amplitude', yscale='linear',\n",
    "    )\n",
    "    ax.legend()\n",
    "    fig.tight_layout();\n",
    "    \n",
    "    for yscale in ['log', 'linear']:\n",
    "        fig, ax = plt.subplots()\n",
    "\n",
    "        ax.plot(profile.initial_shear_vel, profile.depth,\n",
    "                label='Initial', drawstyle='steps-pre')\n",
    "        ax.plot(calc.profile.initial_shear_vel, calc.profile.depth,\n",
    "                label='Fit', drawstyle='steps-pre')\n",
    "\n",
    "        ax.legend()\n",
    "        ax.set(\n",
    "            xlabel='$V_s$ (m/s)', xlim=(0, 3500), \n",
    "            ylabel='Depth (m)', ylim=(8000, 0), yscale=yscale,\n",
    "        )\n",
    "        fig.tight_layout();"
   ]
  },
  {
   "cell_type": "code",
   "execution_count": null,
   "metadata": {},
   "outputs": [],
   "source": [
    "profile.location?"
   ]
  },
  {
   "cell_type": "code",
   "execution_count": null,
   "metadata": {},
   "outputs": [],
   "source": []
  }
 ],
 "metadata": {
  "kernelspec": {
   "display_name": "Python 3",
   "language": "python",
   "name": "python3"
  },
  "language_info": {
   "codemirror_mode": {
    "name": "ipython",
    "version": 3
   },
   "file_extension": ".py",
   "mimetype": "text/x-python",
   "name": "python",
   "nbconvert_exporter": "python",
   "pygments_lexer": "ipython3",
   "version": "3.6.8"
  },
  "toc": {
   "base_numbering": 1,
   "nav_menu": {
    "height": "12px",
    "width": "160px"
   },
   "number_sections": true,
   "sideBar": true,
   "skip_h1_title": false,
   "title_cell": "Table of Contents",
   "title_sidebar": "Contents",
   "toc_cell": false,
   "toc_position": {},
   "toc_section_display": true,
   "toc_window_display": false
  }
 },
 "nbformat": 4,
 "nbformat_minor": 2
}
